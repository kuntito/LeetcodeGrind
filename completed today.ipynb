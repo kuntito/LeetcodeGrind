{
 "cells": [
  {
   "cell_type": "markdown",
   "metadata": {},
   "source": [
    "24-jun-25:\n",
    "* leetcode (15 mins)\n",
    "  * tackled:\n",
    "    * [contains duplicate iii](https://leetcode.com/problems/contains-duplicate-iii/description/)\n",
    "\n",
    "* building (75 + 66 mins)\n",
    "  * Retail Store App\n",
    "  built a mock-up for the reail app.\n",
    "  there are two views:\n",
    "  a client view, where you add items to cart and place orders\n",
    "  an admin view, where you manage inventory and attend to orders.\n",
    "\n",
    "  try it out, \n",
    "  \n",
    "  to add items to inventory, [admin view](https://nihude-mock.vercel.app/admin)\n",
    "  to view added items and place orders, [customer view](https://nihude-mock.vercel.app/)\n",
    "\n",
    "  then you can manage orders [here](https://nihude-mock.vercel.app/admin/orders?tab=pending)\n",
    "\n",
    "  it's work in progress and frankly took longer than expected.\n",
    "  up next, building the API.\n",
    "  \n",
    "\n",
    "@xanthian buddy ping.\n",
    "@ikeaplant buddy ping.\n",
    "\n",
    "@aquaenix \n",
    "@ironrhino5 \n",
    "\n",
    "\n",
    "\n",
    "**-jun-25:\n",
    "* leetcode (** mins)\n",
    "  * tackled:\n",
    "    * []()\n",
    "\n",
    "* building (** mins)\n",
    "  * Retail Store App\n",
    "\n",
    "@xanthian buddy ping.\n",
    "@ikeaplant buddy ping.\n",
    "\n",
    "@ironrhino5\n",
    "\n",
    "@sns_coder @mywon31 @ironrhino5 @0x80. @lakshya9624 @brohudev @must_be_g14classified @genie.6336 "
   ]
  },
  {
   "cell_type": "code",
   "execution_count": null,
   "metadata": {
    "vscode": {
     "languageId": "plaintext"
    }
   },
   "outputs": [],
   "source": [
    "ultraleraning - james clear\n",
    "so good they can't ignore you - cal newport\n",
    "supercommunicators - charles duhigg\n",
    "principles - ray diallo\n",
    "\n",
    "the science of story telling - will storr\n",
    "a story is a deal - will storr\n",
    "thank you for arguing - jay heinrichs"
   ]
  },
  {
   "cell_type": "markdown",
   "metadata": {},
   "source": []
  }
 ],
 "metadata": {
  "language_info": {
   "name": "python"
  }
 },
 "nbformat": 4,
 "nbformat_minor": 2
}
