{
 "cells": [
  {
   "cell_type": "markdown",
   "metadata": {},
   "source": [
    "27-may-25:\n",
    "* completed 3x60 Amazon final interview.\n",
    "1x60 coding,\n",
    "1x60 LPs,\n",
    "1x30 coding 1x30 LPs \n",
    "\n",
    "it went quite well, i solved all coding questions albeit with hints from the interviewer.\n",
    "the stories i prepped came in handy, a few follow-ups but i managed alright.\n",
    "i've got a good feeling about this one.\n",
    "\n",
    "* leetcode (1x15 mins)\n",
    "  * tackled:\n",
    "    * [range sum query 2d mutable](https://leetcode.com/problems/range-sum-query-2d-mutable/description)\n",
    "\n",
    "* building (90 mins)\n",
    "\n",
    "@kim_mkuu \n",
    "\n",
    "@sns_coder @mywon31 @ironrhino5 @aquaenix @0x80. @lakshya9624 @brohudev @must_be_g14classified @genie.6336 \n",
    "\n",
    "\n",
    "\n",
    "**-may-25:\n",
    "* leetcode (** mins)\n",
    "  * solved:\n",
    "    * []()\n",
    "\n",
    "* behaviorals (** mins)\n",
    "  * \n",
    "\n",
    "* building (** mins)\n",
    "  * Retail Store App\n",
    "\n",
    "* reading (15 mins)\n",
    "  * show your work - austin kleon\n",
    "\n",
    "@kim_mkuu \n",
    "\n",
    "@sns_coder @mywon31 @ironrhino5 @aquaenix @0x80. @lakshya9624 @brohudev @must_be_g14classified @genie.6336 "
   ]
  },
  {
   "cell_type": "code",
   "execution_count": null,
   "metadata": {
    "vscode": {
     "languageId": "plaintext"
    }
   },
   "outputs": [],
   "source": [
    "ultraleraning - james clear\n",
    "so good they can't ignore you - cal newport\n",
    "supercommunicators - charles duhigg\n",
    "principles - ray diallo\n",
    "\n",
    "the science of story telling - will storr\n",
    "a story is a deal - will storr\n",
    "thank you for arguing - jay heinrichs"
   ]
  },
  {
   "cell_type": "markdown",
   "metadata": {},
   "source": []
  }
 ],
 "metadata": {
  "language_info": {
   "name": "python"
  }
 },
 "nbformat": 4,
 "nbformat_minor": 2
}
