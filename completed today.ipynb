{
 "cells": [
  {
   "cell_type": "markdown",
   "metadata": {},
   "source": [
    "26-may-25:\n",
    "* leetcode (5x15 mins)\n",
    "  * tackled:\n",
    "    * [the maze](https://leetcode.com/problems/the-maze/description/)\n",
    "    * [count univalue subtrees](https://leetcode.com/problems/count-univalue-subtrees/)\n",
    "    * [brightest position on street](https://leetcode.com/problems/brightest-position-on-street/description/)\n",
    "\n",
    "* behaviorals (9x15 mins + 10mins): recited my stories.\n",
    "  * time i received tough or critical feedback\n",
    "  * time i didn't know what to do or solve a challenging problem\n",
    "  * time i went above and beyond for a customer\n",
    "  * time i took a proactive approach to solve a problem\n",
    "  * time i found the root cause of a problem\n",
    "  * time i overcame obstacles to solve a problem\n",
    "  * time i solved a complex problem with a simple solution\n",
    "  * time i disagreed with a group decision\n",
    "  * time i took on a significant task outside my area of responsibility\n",
    "\n",
    "interview tomorrow.\n",
    "fingers crossed. :fingers_crossed: \n",
    "\n",
    "@kim_mkuu buddy ping.\n",
    "\n",
    "@sns_coder @mywon31 @ironrhino5 @aquaenix @0x80. @lakshya9624 @brohudev @must_be_g14classified @genie.6336 @regretmin\n",
    "\n",
    "\n",
    "**-may-25:\n",
    "* leetcode (*x** mins)\n",
    "  * tackled:\n",
    "    * []()\n",
    "\n",
    "* behaviorals (*x** mins)\n",
    "  * \n",
    "\n",
    "* misc (*x** mins)\n",
    "  * []()\n",
    "\n",
    "\n",
    "**-may-25:\n",
    "* leetcode (** mins)\n",
    "  * solved:\n",
    "    * []()\n",
    "\n",
    "* behaviorals (** mins)\n",
    "  * \n",
    "\n",
    "* building (** mins)\n",
    "  * Retail Store App\n",
    "\n",
    "* reading (15 mins)\n",
    "  * show your work - austin kleon\n",
    "\n",
    "@kim_mkuu \n",
    "\n",
    "@sns_coder @mywon31 @ironrhino5 @aquaenix @0x80. @lakshya9624 @brohudev @must_be_g14classified @genie.6336 "
   ]
  },
  {
   "cell_type": "code",
   "execution_count": null,
   "metadata": {
    "vscode": {
     "languageId": "plaintext"
    }
   },
   "outputs": [],
   "source": [
    "ultraleraning - james clear\n",
    "so good they can't ignore you - cal newport\n",
    "supercommunicators - charles duhigg\n",
    "principles - ray diallo\n",
    "\n",
    "the science of story telling - will storr\n",
    "a story is a deal - will storr\n",
    "thank you for arguing - jay heinrichs"
   ]
  },
  {
   "cell_type": "markdown",
   "metadata": {},
   "source": []
  }
 ],
 "metadata": {
  "language_info": {
   "name": "python"
  }
 },
 "nbformat": 4,
 "nbformat_minor": 2
}
