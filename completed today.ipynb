{
 "cells": [
  {
   "cell_type": "markdown",
   "metadata": {},
   "source": [
    "today:\n",
    "* leetcode (12 mins)\n",
    "  * tackled: 1 questions\n",
    "  * solved:\n",
    "    * [shortest word distance](https://leetcode.com/problems/shortest-word-distance/description/)\n",
    "\n",
    "* building\n",
    "  * ** mins (** course)\n",
    "  * ** -6 mins (Interview Prep) \n",
    "  \n",
    "\n",
    "* behavioral (** mins)\n",
    "  * \n",
    "\n",
    "* read (15 mins)\n",
    "    ** - **\n",
    "\n",
    "\n",
    "today:\n",
    "* leetcode (** mins)\n",
    "  * tackled: ** questions\n",
    "  * solved:\n",
    "    * []()\n",
    "\n",
    "* building\n",
    "  * ** mins (** course)\n",
    "  * ** mins (Interview Prep)\n",
    "  \n",
    "\n",
    "* behavioral (** mins)\n",
    "  * \n",
    "\n",
    "* read (15 mins)\n",
    "    ** - **\n",
    "\n",
    "@sns_coder @0x80. @mywon31 @lakshya9624 @brohudev @must_be_g14classified "
   ]
  },
  {
   "cell_type": "code",
   "execution_count": null,
   "metadata": {
    "vscode": {
     "languageId": "plaintext"
    }
   },
   "outputs": [],
   "source": [
    "ultraleraning - james clear\n",
    "so good they can't ignore you - cal newport\n",
    "supercommunicators - charles duhigg"
   ]
  },
  {
   "cell_type": "markdown",
   "metadata": {},
   "source": []
  }
 ],
 "metadata": {
  "language_info": {
   "name": "python"
  }
 },
 "nbformat": 4,
 "nbformat_minor": 2
}
