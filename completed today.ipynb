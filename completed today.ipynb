{
 "cells": [
  {
   "cell_type": "markdown",
   "metadata": {},
   "source": [
    "today:\n",
    "* leetcode\n",
    "  * [find the difference](https://leetcode.com/problems/find-the-difference/description/)\n",
    "  * [power of two](https://leetcode.com/problems/power-of-two/description/)\n",
    "  \n",
    "* project\n",
    "  *  mins (Portfolio)\n",
    "  *  mins (React course)\n",
    "  *  mins (Node course)\n",
    "\n",
    "@kamerbling @nlstom \n",
    "\n",
    "* []()"
   ]
  }
 ],
 "metadata": {
  "language_info": {
   "name": "python"
  }
 },
 "nbformat": 4,
 "nbformat_minor": 2
}
