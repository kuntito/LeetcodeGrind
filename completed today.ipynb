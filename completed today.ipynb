{
 "cells": [
  {
   "cell_type": "markdown",
   "metadata": {},
   "source": [
    "18-may-25:\n",
    "* leetcode (2x18 mins)\n",
    "  * tackled:\n",
    "    * [the maze](https://leetcode.com/problems/the-maze/description/)\n",
    "    * [maximum profit from trading stocks ](https://leetcode.com/problems/maximum-profit-from-trading-stocks/)\n",
    "\n",
    "* behaviorals (4x18 mins)\n",
    "  * drafted stories around \"dive deep\" and \"deliver results\".\n",
    "\n",
    "* reading (4x18 mins)\n",
    "  * [writing and speaking clearly and concisely](https://www.scarletink.com/p/writing-and-speaking-clearly-and-concisely)\n",
    "  * [answering interview questions: STAR method](https://www.scarletink.com/p/answering-interview-questions-star-method)\n",
    "  * [interviewing mistake 3: neglecting context](https://www.scarletink.com/p/interview-mistake-3-neglecting-context-interviewer)\n",
    "\n",
    "\n",
    "@kim_mkuu buddy ping.\n",
    "\n",
    "@sns_coder @mywon31 @ironrhino5 @aquaenix @0x80. @lakshya9624 @brohudev @must_be_g14classified @genie.6336 @regretmin \n",
    "\n",
    "\n",
    "**-may-25:\n",
    "* leetcode (*x** mins)\n",
    "  * tackled:\n",
    "    * []()\n",
    "\n",
    "* behaviorals (*x** mins)\n",
    "  * \n",
    "\n",
    "* reading (*x** mins)\n",
    "  * \n",
    "\n",
    "\n",
    "**-may-25:\n",
    "* leetcode (** mins)\n",
    "  * solved:\n",
    "    * []()\n",
    "\n",
    "* behaviorals (** mins)\n",
    "  * \n",
    "\n",
    "* building (** mins)\n",
    "  * Retail Store App\n",
    "\n",
    "* reading (15 mins)\n",
    "  * show your work - austin kleon\n",
    "\n",
    "@kim_mkuu \n",
    "\n",
    "@sns_coder @mywon31 @ironrhino5 @aquaenix @0x80. @lakshya9624 @brohudev @must_be_g14classified @genie.6336 "
   ]
  },
  {
   "cell_type": "code",
   "execution_count": null,
   "metadata": {
    "vscode": {
     "languageId": "plaintext"
    }
   },
   "outputs": [],
   "source": [
    "ultraleraning - james clear\n",
    "so good they can't ignore you - cal newport\n",
    "supercommunicators - charles duhigg\n",
    "principles - ray diallo\n",
    "\n",
    "the science of story telling - will storr\n",
    "a story is a deal - will storr\n",
    "thank you for arguing - jay heinrichs"
   ]
  },
  {
   "cell_type": "markdown",
   "metadata": {},
   "source": []
  }
 ],
 "metadata": {
  "language_info": {
   "name": "python"
  }
 },
 "nbformat": 4,
 "nbformat_minor": 2
}
