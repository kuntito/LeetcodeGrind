{
 "cells": [
  {
   "cell_type": "markdown",
   "metadata": {},
   "source": [
    "today:\n",
    "* leetcode\n",
    "  * [add binary](https://leetcode.com/problems/add-binary/description/)\n",
    "  \n",
    "* project\n",
    "  * 30 mins (TicTacToe/Portfolio)\n",
    "  * 5 mins (React course)\n",
    "  * 5 mins (Node course)\n",
    "\n",
    "@kamerbling @nlstom \n",
    "\n",
    "* []()"
   ]
  }
 ],
 "metadata": {
  "language_info": {
   "name": "python"
  }
 },
 "nbformat": 4,
 "nbformat_minor": 2
}
