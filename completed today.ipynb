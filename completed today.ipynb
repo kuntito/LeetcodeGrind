{
 "cells": [
  {
   "cell_type": "markdown",
   "metadata": {},
   "source": [
    "\n",
    "\n",
    "today:\n",
    "* leetcode (** mins)\n",
    "  * tackled: ** + 1 questions\n",
    "  * solved:\n",
    "    * [fruits into baskets](https://leetcode.com/problems/fruit-into-baskets/description/)\n",
    "  \n",
    "* project\n",
    "  * 20 mins (React course)\n",
    "  * 30 mins (Interview Prep)\n",
    "\n",
    "@kamerbling @nlstom @0x80. @mywon31 \n",
    "\n",
    "\n",
    "today:\n",
    "* leetcode (** mins)\n",
    "  * tackled: ** questions\n",
    "  * solved:\n",
    "    * []()\n",
    "  \n",
    "* project\n",
    "  * 20 mins (** course)\n",
    "  * 30 mins (Interview Prep)\n",
    "\n",
    "@kamerbling @nlstom @0x80. @mywon31 "
   ]
  },
  {
   "cell_type": "code",
   "execution_count": null,
   "metadata": {
    "vscode": {
     "languageId": "plaintext"
    }
   },
   "outputs": [],
   "source": []
  },
  {
   "cell_type": "code",
   "execution_count": null,
   "metadata": {
    "vscode": {
     "languageId": "plaintext"
    }
   },
   "outputs": [],
   "source": []
  }
 ],
 "metadata": {
  "language_info": {
   "name": "python"
  }
 },
 "nbformat": 4,
 "nbformat_minor": 2
}
