{
 "cells": [
  {
   "cell_type": "markdown",
   "metadata": {},
   "source": [
    "today:\n",
    "* leetcode\n",
    "  * [transpose matrix](https://leetcode.com/problems/transpose-matrix/description/)\n",
    "  \n",
    "* project\n",
    "  *  30 mins (TicTacToe)\n",
    "  *  15 mins (React course)\n",
    "  *  15 mins (Node course)\n",
    "\n",
    "@kamerbling @nlstom \n",
    "\n",
    "* []()\n"
   ]
  }
 ],
 "metadata": {
  "language_info": {
   "name": "python"
  }
 },
 "nbformat": 4,
 "nbformat_minor": 2
}
