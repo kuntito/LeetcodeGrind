{
 "cells": [
  {
   "cell_type": "markdown",
   "metadata": {},
   "source": [
    "yesterday (02-apr-25):\n",
    "* leetcode (60 mins)\n",
    "  * tackled: 3 questions\n",
    "  * solved:\n",
    "    * [depth of n-ary tree](https://leetcode.com/problems/maximum-depth-of-n-ary-tree/description/)\n",
    "\n",
    "* behavioral (45 mins)\n",
    "  * apparently, i do have a relevant experiences to behavioral questions. realized this while journaling about my life.\n",
    "\n",
    "* building\n",
    "  * 20 mins (React Native course)\n",
    "  * 60 mins (Retail Store App)\n",
    "    the lady at the African store i shop started doing deliveries but she sends her item lists via WhatsApp and it's somewhat hard to find specific items. i figured i could build a website where she can display items and customers can make orders.\n",
    "\n",
    "    haven't told her yet. still unsure about it's feasibility, but i'll give it a shot and see what's possible.\n",
    "\n",
    "* read (10 mins)\n",
    "    a story is a deal - will storr\n",
    "\n",
    "@sns_coder \n",
    "\n",
    "@mywon31 @ironrhino5 @aquaenix @0x80.  @lakshya9624 @brohudev @must_be_g14classified @genie.6336 \n",
    "\n",
    "\n",
    "\n",
    "today:\n",
    "* leetcode (** mins)\n",
    "  * tackled: ** questions\n",
    "  * solved:\n",
    "    * []()\n",
    "\n",
    "* behavioral (** mins)\n",
    "  * \n",
    "\n",
    "* building\n",
    "  * ** (** course)\n",
    "  * ** mins (Interview Prep App)\n",
    "\n",
    "* read (15 mins)\n",
    "    ** - **\n",
    "\n",
    "@sns_coder \n",
    "\n",
    "@mywon31 @ironrhino5 @aquaenix @0x80.  @lakshya9624 @brohudev @must_be_g14classified @genie.6336 "
   ]
  },
  {
   "cell_type": "code",
   "execution_count": null,
   "metadata": {
    "vscode": {
     "languageId": "plaintext"
    }
   },
   "outputs": [],
   "source": [
    "ultraleraning - james clear\n",
    "so good they can't ignore you - cal newport\n",
    "supercommunicators - charles duhigg\n",
    "principles - ray diallo\n",
    "\n",
    "the science of story telling - will storr\n",
    "a story is a deal - will storr"
   ]
  },
  {
   "cell_type": "markdown",
   "metadata": {},
   "source": []
  }
 ],
 "metadata": {
  "language_info": {
   "name": "python"
  }
 },
 "nbformat": 4,
 "nbformat_minor": 2
}
