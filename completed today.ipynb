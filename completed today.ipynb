{
 "cells": [
  {
   "cell_type": "markdown",
   "metadata": {},
   "source": [
    "today:\n",
    "* leetcode\n",
    "  * [shuffle the array](https://leetcode.com/problems/shuffle-the-array/description/)\n",
    "  \n",
    "* project\n",
    "  * 45 mins (TicTacToe/Portfolio)\n",
    "  * 5 mins (React course)\n",
    "  * 5 mins (Node course)\n",
    "\n",
    "@kamerbling @nlstom \n",
    "\n",
    "* []()"
   ]
  }
 ],
 "metadata": {
  "language_info": {
   "name": "python"
  }
 },
 "nbformat": 4,
 "nbformat_minor": 2
}
