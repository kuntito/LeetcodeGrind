{
 "cells": [
  {
   "cell_type": "markdown",
   "metadata": {},
   "source": [
    "\n",
    "\n",
    "today:\n",
    "* leetcode (** mins)\n",
    "  * tackled: ** questions\n",
    "  * solved:\n",
    "    * [simplify path](https://leetcode.com/problems/simplify-path/description/)\n",
    "  \n",
    "* building\n",
    "  * ** mins (** course)\n",
    "  * ** mins (Interview Prep)\n",
    "\n",
    "* behavioral (** mins)\n",
    "  * \n",
    "\n",
    "@NikKeyta @0x80. @mywon31 @lakshya9624 @brohudev @must_be_g14classified "
   ]
  }
 ],
 "metadata": {
  "language_info": {
   "name": "python"
  }
 },
 "nbformat": 4,
 "nbformat_minor": 2
}
