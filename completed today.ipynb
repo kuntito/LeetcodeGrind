{
 "cells": [
  {
   "cell_type": "markdown",
   "metadata": {},
   "source": [
    "23-may-25:\n",
    "* leetcode (3x18 mins + 11 mins because i couldn't let go of the last two problems)\n",
    "  * tackled:\n",
    "    * [maximum profit from trading stocks](https://leetcode.com/problems/maximum-profit-from-trading-stocks/description/)\n",
    "    * [leftmost column with at least a one](https://leetcode.com/problems/leftmost-column-with-at-least-a-one/description/)\n",
    "    * [find distance in a binary tree](https://leetcode.com/problems/find-distance-in-a-binary-tree/description/)\n",
    "\n",
    "* behaviorals (6x18 mins): recited stories out loud.\n",
    "  * time i took significant task outside my current responsibilities\n",
    "  * time i delivered good customer service\n",
    "  * time i solved a problem my team was facing\n",
    "\n",
    "* misc (2x5 mins)\n",
    "  * [hit ground running: ramp up new job 3 weeks](https://www.scarletink.com/p/hit-ground-running-ramp-up-new-job-3-weeks)\n",
    "  * reviewed my notes from Dave Anderson's articles.\n",
    "\n",
    "@kim_mkuu buddy ping.\n",
    "\n",
    "@sns_coder @mywon31 @ironrhino5 @aquaenix @0x80. @lakshya9624 @brohudev @must_be_g14classified @genie.6336 @regretmin \n",
    "\n",
    "\n",
    "**-may-25:\n",
    "* leetcode (*x** mins)\n",
    "  * tackled:\n",
    "    * []()\n",
    "\n",
    "* behaviorals (*x** mins)\n",
    "  * \n",
    "\n",
    "* misc (*x** mins)\n",
    "  * []()\n",
    "\n",
    "\n",
    "**-may-25:\n",
    "* leetcode (** mins)\n",
    "  * solved:\n",
    "    * []()\n",
    "\n",
    "* behaviorals (** mins)\n",
    "  * \n",
    "\n",
    "* building (** mins)\n",
    "  * Retail Store App\n",
    "\n",
    "* reading (15 mins)\n",
    "  * show your work - austin kleon\n",
    "\n",
    "@kim_mkuu \n",
    "\n",
    "@sns_coder @mywon31 @ironrhino5 @aquaenix @0x80. @lakshya9624 @brohudev @must_be_g14classified @genie.6336 "
   ]
  },
  {
   "cell_type": "code",
   "execution_count": null,
   "metadata": {
    "vscode": {
     "languageId": "plaintext"
    }
   },
   "outputs": [],
   "source": [
    "ultraleraning - james clear\n",
    "so good they can't ignore you - cal newport\n",
    "supercommunicators - charles duhigg\n",
    "principles - ray diallo\n",
    "\n",
    "the science of story telling - will storr\n",
    "a story is a deal - will storr\n",
    "thank you for arguing - jay heinrichs"
   ]
  },
  {
   "cell_type": "markdown",
   "metadata": {},
   "source": []
  }
 ],
 "metadata": {
  "language_info": {
   "name": "python"
  }
 },
 "nbformat": 4,
 "nbformat_minor": 2
}
