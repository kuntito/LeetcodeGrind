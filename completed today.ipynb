{
 "cells": [
  {
   "cell_type": "markdown",
   "metadata": {},
   "source": [
    "today:\n",
    "* leetcode (75 mins)\n",
    "  * tackled: 5 questions\n",
    "  * solved:\n",
    "    * [sequential digits](https://leetcode.com/problems/sequential-digits/description/)\n",
    "    * [sort characters by frequency](https://leetcode.com/problems/sort-characters-by-frequency/description/)\n",
    "    * [find polygon with largest perimeter](https://leetcode.com/problems/find-polygon-with-the-largest-perimeter/description/)\n",
    "  \n",
    "* project\n",
    "  * 20 mins (Next course)\n",
    "  * 30 mins (Interview Prep)\n",
    "\n",
    "@kamerbling @nlstom @0x80. @mywon31 \n",
    "\n",
    "\n",
    "\n",
    "today:\n",
    "* leetcode (** mins)\n",
    "  * tackled: ** questions\n",
    "  * solved:\n",
    "    * []()\n",
    "  \n",
    "* project\n",
    "  * 20 mins (** course)\n",
    "  * 30 mins (Interview Prep)\n",
    "\n",
    "@kamerbling @nlstom @0x80. @mywon31 "
   ]
  },
  {
   "cell_type": "code",
   "execution_count": null,
   "metadata": {
    "vscode": {
     "languageId": "plaintext"
    }
   },
   "outputs": [],
   "source": []
  },
  {
   "cell_type": "code",
   "execution_count": null,
   "metadata": {
    "vscode": {
     "languageId": "plaintext"
    }
   },
   "outputs": [],
   "source": []
  }
 ],
 "metadata": {
  "language_info": {
   "name": "python"
  }
 },
 "nbformat": 4,
 "nbformat_minor": 2
}
