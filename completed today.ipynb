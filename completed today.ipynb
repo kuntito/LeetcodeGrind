{
 "cells": [
  {
   "cell_type": "markdown",
   "metadata": {},
   "source": [
    "today:\n",
    "* leetcode\n",
    "* [shift 2d grid](https://leetcode.com/problems/shift-2d-grid/description/)\n",
    "  \n",
    "* project\n",
    "  *  mins (TicTacToe)\n",
    "  *  mins (React course)\n",
    "  *  mins (Node course)\n",
    "\n",
    "@kamerbling @nlstom \n",
    "\n",
    "* []()\n"
   ]
  }
 ],
 "metadata": {
  "language_info": {
   "name": "python"
  }
 },
 "nbformat": 4,
 "nbformat_minor": 2
}
