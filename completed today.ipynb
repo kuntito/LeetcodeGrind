{
 "cells": [
  {
   "cell_type": "markdown",
   "metadata": {},
   "source": [
    "05-jun-25:\n",
    "* leetcode (2x20 mins)\n",
    "  * tackled:\n",
    "    * [substring with concatenation of all words](https://leetcode.com/problems/substring-with-concatenation-of-all-words/description/)\n",
    "\n",
    "* building (2x50 mins)\n",
    "  * Retail Store App\n",
    "\n",
    "@xanthian buddy ping.\n",
    "@ikeaplant buddy ping.\n",
    "\n",
    "guys, i got the Amazon offer!\n",
    "\n",
    "it's been quite the journey, 11 months since i graduated. 11 long months filled with rejections, the occasional burst of motivation.. and moments where i wasn't even sure if it was possible. all i knew was i had to keep going and i'm glad it all worked out in the end.\n",
    "\n",
    "i'm grateful to everyone who's posted here. being in a community of job hunters really did wonders for my mental health.\n",
    "\n",
    "thank you.\n",
    "\n",
    "@sns_coder @mywon31 @ironrhino5 @aquaenix @0x80. @lakshya9624 @brohudev @must_be_g14classified @genie.6336 \n",
    "\n",
    "\n",
    "\n",
    "**-jun-25:\n",
    "* leetcode (** mins)\n",
    "  * tackled:\n",
    "    * []()\n",
    "\n",
    "* building (** mins)\n",
    "  * Retail Store App\n",
    "\n",
    "* behaviorals (** mins)\n",
    "  * \n",
    "\n",
    "* reading (15 mins)\n",
    "  * show your work - austin kleon\n",
    "\n",
    "@xanthian buddy ping.\n",
    "@ikeaplant buddy ping.\n",
    "\n",
    "@sns_coder @mywon31 @ironrhino5 @aquaenix @0x80. @lakshya9624 @brohudev @must_be_g14classified @genie.6336 "
   ]
  },
  {
   "cell_type": "code",
   "execution_count": null,
   "metadata": {
    "vscode": {
     "languageId": "plaintext"
    }
   },
   "outputs": [],
   "source": [
    "ultraleraning - james clear\n",
    "so good they can't ignore you - cal newport\n",
    "supercommunicators - charles duhigg\n",
    "principles - ray diallo\n",
    "\n",
    "the science of story telling - will storr\n",
    "a story is a deal - will storr\n",
    "thank you for arguing - jay heinrichs"
   ]
  },
  {
   "cell_type": "markdown",
   "metadata": {},
   "source": []
  }
 ],
 "metadata": {
  "language_info": {
   "name": "python"
  }
 },
 "nbformat": 4,
 "nbformat_minor": 2
}
