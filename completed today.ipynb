{
 "cells": [
  {
   "cell_type": "markdown",
   "metadata": {},
   "source": [
    "today:\n",
    "* leetcode\n",
    "  * [palindrome number](https://leetcode.com/problems/palindrome-number/description/)\n",
    "  \n",
    "* project\n",
    "  * 90 mins (TicTacToe)\n",
    "  * 10 mins (React course)\n",
    "  * 10 mins (Node course)\n",
    "\n",
    "@kamerbling @nlstom \n",
    "\n",
    "* []()\n"
   ]
  }
 ],
 "metadata": {
  "language_info": {
   "name": "python"
  }
 },
 "nbformat": 4,
 "nbformat_minor": 2
}
