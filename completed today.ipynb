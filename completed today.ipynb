{
 "cells": [
  {
   "cell_type": "markdown",
   "metadata": {},
   "source": [
    "28-apr-25:\n",
    "* leetcode (90 mins)\n",
    "  * revisited:\n",
    "    * [best time to buy and sell stock](https://leetcode.com/problems/best-time-to-buy-and-sell-stock/description/)\n",
    "    * [binary tree maximum path sum](https://leetcode.com/problems/binary-tree-maximum-path-sum/)\n",
    "    * [valid palindrome](https://leetcode.com/problems/valid-palindrome/)\n",
    "    * [longest consecutive sequence](https://leetcode.com/problems/longest-consecutive-sequence/description/)\n",
    "    * [clone graph](https://leetcode.com/problems/clone-graph/description/)\n",
    "    * [word break](https://leetcode.com/problems/word-break/)\n",
    "\n",
    "* behavioral (45 mins)\n",
    "  * working with claude to write behavioral stories\n",
    "\n",
    "* building (105 mins)\n",
    "  * Retail Store App\n",
    "\n",
    "* reading (15 mins)\n",
    "  * show your work - austin kleon\n",
    "\n",
    "@sns_coder \n",
    "\n",
    "@mywon31 @ironrhino5 @aquaenix @0x80.  @lakshya9624 @brohudev @must_be_g14classified @genie.6336 \n",
    "\n",
    "\n",
    "**-apr-25:\n",
    "* leetcode (** mins)\n",
    "  * revisited:\n",
    "    * []()\n",
    "\n",
    "* behavioral (** mins)\n",
    "  * \n",
    "\n",
    "* building (** mins)\n",
    "  * Retail Store App\n",
    "\n",
    "* reading (15 mins)\n",
    "  * show your work - austin kleon\n",
    "\n",
    "@sns_coder \n",
    "\n",
    "@mywon31 @ironrhino5 @aquaenix @0x80.  @lakshya9624 @brohudev @must_be_g14classified @genie.6336 "
   ]
  },
  {
   "cell_type": "code",
   "execution_count": null,
   "metadata": {
    "vscode": {
     "languageId": "plaintext"
    }
   },
   "outputs": [],
   "source": [
    "ultraleraning - james clear\n",
    "so good they can't ignore you - cal newport\n",
    "supercommunicators - charles duhigg\n",
    "principles - ray diallo\n",
    "\n",
    "the science of story telling - will storr\n",
    "a story is a deal - will storr\n",
    "thank you for arguing - jay heinrichs"
   ]
  },
  {
   "cell_type": "markdown",
   "metadata": {},
   "source": []
  }
 ],
 "metadata": {
  "language_info": {
   "name": "python"
  }
 },
 "nbformat": 4,
 "nbformat_minor": 2
}
