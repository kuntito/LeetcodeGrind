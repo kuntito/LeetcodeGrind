{
 "cells": [
  {
   "cell_type": "markdown",
   "metadata": {},
   "source": [
    "14-may-25:\n",
    "* leetcode (3x18 mins)\n",
    "  * tackled:\n",
    "    * [design tic-tac-toe](https://leetcode.com/problems/design-tic-tac-toe/)\n",
    "    * [word pattern ii](https://leetcode.com/problems/word-pattern-ii/description/)\n",
    "    * [design file system](https://leetcode.com/problems/design-file-system/description/)\n",
    "\n",
    "* behavioral (7x15 mins)\n",
    "  * drafted stories around \"Ownership\" and \"Learn and be curious\"\n",
    "\n",
    "* reading (6x8 mins)\n",
    "  * [how to pass the Amazon technical interview](https://www.scarletink.com/p/how-to-pass-the-amazon-technical-interview)\n",
    "  * [interview mistake 1: running your mouth](https://www.scarletink.com/p/interview-mistake-1-running-your-mouth)\n",
    "  * [interview mistake 2: speaking poorly about your previous co-workers](https://www.scarletink.com/p/interview-mistake-2-speaking-poorly-about-your-previous-co-workers)\n",
    "  * [how the Amazon bar raiser process works](https://www.scarletink.com/p/how-amazon-bar-raiser-process-works)\n",
    "\n",
    "@kim_mkuu \n",
    "\n",
    "@sns_coder @mywon31 @ironrhino5 @aquaenix @0x80. @lakshya9624 @brohudev @must_be_g14classified @genie.6336 @regretmin \n",
    "\n",
    "\n",
    "**-may-25:\n",
    "* leetcode (*x** mins)\n",
    "  * tackled:\n",
    "    * []()\n",
    "\n",
    "* behavioral (*x** mins)\n",
    "  * \n",
    "\n",
    "* reading (*x** mins)\n",
    "  * \n",
    "\n",
    "\n",
    "**-may-25:\n",
    "* leetcode (** mins)\n",
    "  * solved:\n",
    "    * []()\n",
    "\n",
    "* behavioral (** mins)\n",
    "  * \n",
    "\n",
    "* building (** mins)\n",
    "  * Retail Store App\n",
    "\n",
    "* reading (15 mins)\n",
    "  * show your work - austin kleon\n",
    "\n",
    "@kim_mkuu \n",
    "\n",
    "@sns_coder @mywon31 @ironrhino5 @aquaenix @0x80. @lakshya9624 @brohudev @must_be_g14classified @genie.6336 "
   ]
  },
  {
   "cell_type": "code",
   "execution_count": null,
   "metadata": {
    "vscode": {
     "languageId": "plaintext"
    }
   },
   "outputs": [],
   "source": [
    "ultraleraning - james clear\n",
    "so good they can't ignore you - cal newport\n",
    "supercommunicators - charles duhigg\n",
    "principles - ray diallo\n",
    "\n",
    "the science of story telling - will storr\n",
    "a story is a deal - will storr\n",
    "thank you for arguing - jay heinrichs"
   ]
  },
  {
   "cell_type": "markdown",
   "metadata": {},
   "source": []
  }
 ],
 "metadata": {
  "language_info": {
   "name": "python"
  }
 },
 "nbformat": 4,
 "nbformat_minor": 2
}
