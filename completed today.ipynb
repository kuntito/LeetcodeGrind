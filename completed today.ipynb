{
 "cells": [
  {
   "cell_type": "markdown",
   "metadata": {},
   "source": [
    "today:\n",
    "* leetcode (2 hours)\n",
    "  * attempted: * questions\n",
    "  * solved: [filter elements from array](https://leetcode.com/problems/filter-elements-from-array/description/)\n",
    "  \n",
    "* project\n",
    "  * 20 mins (React course)\n",
    "  * 30 mins (UI design for next project)\n",
    "\n",
    "@kamerbling @nlstom\n",
    "\n",
    "* []()"
   ]
  }
 ],
 "metadata": {
  "language_info": {
   "name": "python"
  }
 },
 "nbformat": 4,
 "nbformat_minor": 2
}
