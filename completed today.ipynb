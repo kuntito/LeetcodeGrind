{
 "cells": [
  {
   "cell_type": "markdown",
   "metadata": {},
   "source": [
    "\n",
    "today:\n",
    "* leetcode (12 mins)\n",
    "  * tackled: 1 questions\n",
    "  * solved:\n",
    "    * [shortest word distance](https://leetcode.com/problems/shortest-word-distance/description/)\n",
    "\n",
    "* read (15 mins)\n",
    "    the science of story telling - will storr\n",
    "\n",
    "been a bit ill for the last two days, still recovering, so i decided to take it easy.\n",
    "also, some good news from Amazon:\n",
    "```\n",
    "...We are pleased to inform you that your application for < 2025 SDE Graduate GBR > - < 2804113 >, < Lv 4 > position has moved to onsite interview step.\n",
    "\n",
    "The interview process will be held on < 19-3-2025 > from <10:00 AM – 1:30 PM GMT >...\n",
    "```\n",
    "apparently, i didn’t need to pass all test cases. i had 9/15 on my second question with a limit exceeded error.\n",
    "\n",
    "i plan to spend the next few days writing behavioral answers around the leadership principles and solving Amazon-tagged LeetCode questions.\n",
    "\n",
    "i hope it's the last round of job hunting i'd have do for a long time because i am exhaauusted. until then, i keep moving.\n",
    "\n",
    "@sns_coder @0x80. @mywon31 @lakshya9624 @brohudev @must_be_g14classified @aquaenix \n",
    "\n",
    "\n",
    "* building\n",
    "  * ** mins (** course)\n",
    "  * ** -6 mins (Interview Prep) \n",
    "  \n",
    "\n",
    "* behavioral (** mins)\n",
    "  * \n",
    "\n",
    "\n",
    "\n",
    "today:\n",
    "* leetcode (** mins)\n",
    "  * tackled: ** questions\n",
    "  * solved:\n",
    "    * []()\n",
    "\n",
    "* building\n",
    "  * ** mins (** course)\n",
    "  * ** mins (Interview Prep)\n",
    "  \n",
    "\n",
    "* behavioral (** mins)\n",
    "  * \n",
    "\n",
    "* read (15 mins)\n",
    "    ** - **\n",
    "\n",
    "@sns_coder @0x80. @mywon31 @lakshya9624 @brohudev @must_be_g14classified @aquaenix @ironrhino5 "
   ]
  },
  {
   "cell_type": "code",
   "execution_count": null,
   "metadata": {
    "vscode": {
     "languageId": "plaintext"
    }
   },
   "outputs": [],
   "source": [
    "ultraleraning - james clear\n",
    "so good they can't ignore you - cal newport\n",
    "supercommunicators - charles duhigg\n",
    "the science of story telling - will storr"
   ]
  },
  {
   "cell_type": "markdown",
   "metadata": {},
   "source": []
  }
 ],
 "metadata": {
  "language_info": {
   "name": "python"
  }
 },
 "nbformat": 4,
 "nbformat_minor": 2
}
