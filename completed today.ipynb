{
 "cells": [
  {
   "cell_type": "markdown",
   "metadata": {},
   "source": [
    "today:\n",
    "* leetcode (2 hours)\n",
    "  * attempted: 6 questions\n",
    "  * solved:\n",
    "    * [array reduce transformation](https://leetcode.com/problems/array-reduce-transformation/description/)\n",
    "  \n",
    "* project\n",
    "  * 20 mins (React course)\n",
    "  * 30 mins (Interview Prep)\n",
    "\n",
    "@kamerbling @nlstom @mywon31 \n",
    "* []()"
   ]
  }
 ],
 "metadata": {
  "language_info": {
   "name": "python"
  }
 },
 "nbformat": 4,
 "nbformat_minor": 2
}
