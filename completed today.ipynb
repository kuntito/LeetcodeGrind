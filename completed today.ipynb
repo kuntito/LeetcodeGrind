{
 "cells": [
  {
   "cell_type": "markdown",
   "metadata": {},
   "source": [
    "today:\n",
    "* leetcode\n",
    "  * [counter II](https://leetcode.com/problems/counter-ii/description/)\n",
    "  \n",
    "* project\n",
    "  * 18 mins (TicTacToe LinkedIn Post)\n",
    "  * 20 mins (React course)\n",
    "  * 20 mins (Node course)\n",
    "\n",
    "@kamerbling @nlstom \n",
    "\n",
    "* []()"
   ]
  }
 ],
 "metadata": {
  "language_info": {
   "name": "python"
  }
 },
 "nbformat": 4,
 "nbformat_minor": 2
}
