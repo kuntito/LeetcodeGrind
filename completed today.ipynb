{
 "cells": [
  {
   "cell_type": "markdown",
   "metadata": {},
   "source": [
    "\n",
    "\n",
    "\n",
    "today:\n",
    "* leetcode (** mins)\n",
    "  * tackled: ** questions\n",
    "  * solved:\n",
    "    * []()\n",
    "  \n",
    "* project\n",
    "  * ** mins (** course)\n",
    "  * ** mins (Interview Prep)\n",
    "\n",
    "* behavioral (** mins)\n",
    "  * \n",
    "\n",
    "@0x80. @mywon31 @lakshya9624 @brohudev @must_be_g14classified "
   ]
  }
 ],
 "metadata": {
  "language_info": {
   "name": "python"
  }
 },
 "nbformat": 4,
 "nbformat_minor": 2
}
