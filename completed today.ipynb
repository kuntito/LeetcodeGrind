{
 "cells": [
  {
   "cell_type": "markdown",
   "metadata": {},
   "source": [
    "22-apr-25:\n",
    "* leetcode (6 mins)\n",
    "  * tackled: 1 question\n",
    "  * solved:\n",
    "    * [third maximum number](https://leetcode.com/problems/third-maximum-number/description/)\n",
    "\n",
    "* behavioral (41 mins)\n",
    "  * writing a mnooking 2pager for my job search council\n",
    "\n",
    "* building\n",
    "  * 30 mins (MERN tutorial - Retail Store App)\n",
    "\n",
    "* read (7.5 mins)\n",
    "    the status game - will storr\n",
    "\n",
    "@sns_coder \n",
    "\n",
    "@mywon31 @ironrhino5 @aquaenix @0x80.  @lakshya9624 @brohudev @must_be_g14classified @genie.6336 \n",
    "\n",
    "\n",
    "**-apr-25:\n",
    "* leetcode (** mins)\n",
    "  * tackled: ** questions\n",
    "  * solved:\n",
    "    * []()\n",
    "\n",
    "* behavioral (** mins)\n",
    "  * \n",
    "\n",
    "* building\n",
    "  * ** mins (MERN tutorial - Retail Store App)\n",
    "\n",
    "* read (15 mins)\n",
    "    the status game - will storr\n",
    "\n",
    "@sns_coder \n",
    "\n",
    "@mywon31 @ironrhino5 @aquaenix @0x80.  @lakshya9624 @brohudev @must_be_g14classified @genie.6336 "
   ]
  },
  {
   "cell_type": "code",
   "execution_count": null,
   "metadata": {
    "vscode": {
     "languageId": "plaintext"
    }
   },
   "outputs": [],
   "source": [
    "ultraleraning - james clear\n",
    "so good they can't ignore you - cal newport\n",
    "supercommunicators - charles duhigg\n",
    "principles - ray diallo\n",
    "\n",
    "the science of story telling - will storr\n",
    "a story is a deal - will storr\n",
    "thank you for arguing - jay heinrichs"
   ]
  },
  {
   "cell_type": "markdown",
   "metadata": {},
   "source": []
  }
 ],
 "metadata": {
  "language_info": {
   "name": "python"
  }
 },
 "nbformat": 4,
 "nbformat_minor": 2
}
