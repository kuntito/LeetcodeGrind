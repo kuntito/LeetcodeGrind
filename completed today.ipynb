{
 "cells": [
  {
   "cell_type": "markdown",
   "metadata": {},
   "source": [
    "11-apr-25:\n",
    "* leetcode (45 mins)\n",
    "  * tackled: 1 question\n",
    "  * solved:\n",
    "    * [build a matrix with conditions](https://leetcode.com/problems/build-a-matrix-with-conditions/description/)\n",
    "\n",
    "* behavioral (30 mins)\n",
    "  * journaled\n",
    "\n",
    "* building\n",
    "  * 20 mins (React Native)\n",
    "  * 105 mins (Retail Store App)\n",
    "\n",
    "* read (15 mins)\n",
    "    the science of story telling - will storr\n",
    "\n",
    "@sns_coder \n",
    "\n",
    "@mywon31 @ironrhino5 @aquaenix @0x80.  @lakshya9624 @brohudev @must_be_g14classified @genie.6336 \n",
    "\n",
    "\n",
    "\n",
    "\n",
    "\n",
    "**-apr-25:\n",
    "* leetcode (** mins)\n",
    "  * tackled: ** questions\n",
    "  * solved:\n",
    "    * []()\n",
    "\n",
    "* behavioral (** mins)\n",
    "  * \n",
    "\n",
    "* building\n",
    "  * ** mins (React Native)\n",
    "  * ** mins (Retail Store App)\n",
    "\n",
    "* read (15 mins)\n",
    "    **the science of story telling - will storr\n",
    "\n",
    "@sns_coder \n",
    "\n",
    "@mywon31 @ironrhino5 @aquaenix @0x80.  @lakshya9624 @brohudev @must_be_g14classified @genie.6336 "
   ]
  },
  {
   "cell_type": "code",
   "execution_count": null,
   "metadata": {
    "vscode": {
     "languageId": "plaintext"
    }
   },
   "outputs": [],
   "source": [
    "ultraleraning - james clear\n",
    "so good they can't ignore you - cal newport\n",
    "supercommunicators - charles duhigg\n",
    "principles - ray diallo\n",
    "\n",
    "the science of story telling - will storr\n",
    "a story is a deal - will storr"
   ]
  },
  {
   "cell_type": "markdown",
   "metadata": {},
   "source": []
  }
 ],
 "metadata": {
  "language_info": {
   "name": "python"
  }
 },
 "nbformat": 4,
 "nbformat_minor": 2
}
