{
 "cells": [
  {
   "cell_type": "markdown",
   "metadata": {},
   "source": [
    "today:\n",
    "* leetcode (105 mins)\n",
    "  * worked on: 7 questions\n",
    "  * solved:\n",
    "    * [repeated DNA sequences](https://leetcode.com/problems/repeated-dna-sequences/description/)\n",
    "  \n",
    "* project\n",
    "  * 20 mins (** course)\n",
    "  * 30 mins (Interview Prep)\n",
    "\n",
    "@kamerbling @nlstom @0x80. @mywon31 \n",
    "\n",
    "\n",
    "today:\n",
    "* leetcode (** mins)\n",
    "  * attempted: ** questions\n",
    "  * solved:\n",
    "    * []()\n",
    "  \n",
    "* project\n",
    "  * 20 mins (** course)\n",
    "  * 30 mins (Interview Prep)\n",
    "\n",
    "@kamerbling @nlstom @0x80. @mywon31 "
   ]
  },
  {
   "cell_type": "code",
   "execution_count": null,
   "metadata": {
    "vscode": {
     "languageId": "plaintext"
    }
   },
   "outputs": [],
   "source": []
  },
  {
   "cell_type": "code",
   "execution_count": null,
   "metadata": {
    "vscode": {
     "languageId": "plaintext"
    }
   },
   "outputs": [],
   "source": []
  }
 ],
 "metadata": {
  "language_info": {
   "name": "python"
  }
 },
 "nbformat": 4,
 "nbformat_minor": 2
}
