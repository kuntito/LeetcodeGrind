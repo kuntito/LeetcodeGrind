{
 "cells": [
  {
   "cell_type": "markdown",
   "metadata": {},
   "source": [
    "20-may-25:\n",
    "* leetcode (2x18 mins)\n",
    "  * tackled:\n",
    "    * [count univalue subtrees](https://leetcode.com/problems/count-univalue-subtrees/description/)\n",
    "    * [maximum size subarray sum equals k](https://leetcode.com/problems/maximum-size-subarray-sum-equals-k/)\n",
    "\n",
    "* behaviorals (2x18 mins)\n",
    "  * reciting and rewriting responses to \"time i received feedback\" and \"time i disagreed with group decision\"\n",
    "\n",
    "* misc (2x5 mins)\n",
    "  * [video on Amazon whiteboard coding](https://www.youtube.com/watch?v=mjZpZ_wcYFg)\n",
    "\n",
    "@kim_mkuu buddy ping.\n",
    "\n",
    "@sns_coder @mywon31 @ironrhino5 @aquaenix @0x80. @lakshya9624 @brohudev @must_be_g14classified @genie.6336 @regretmin \n",
    "\n",
    "\n",
    "**-may-25:\n",
    "* leetcode (*x** mins)\n",
    "  * tackled:\n",
    "    * []()\n",
    "\n",
    "* behaviorals (*x** mins)\n",
    "  * \n",
    "\n",
    "* misc (*x** mins)\n",
    "  * [hit ground running: ramp up new job 3 weeks](https://www.scarletink.com/p/hit-ground-running-ramp-up-new-job-3-weeks)\n",
    "  * []()\n",
    "\n",
    "\n",
    "**-may-25:\n",
    "* leetcode (** mins)\n",
    "  * solved:\n",
    "    * []()\n",
    "\n",
    "* behaviorals (** mins)\n",
    "  * \n",
    "\n",
    "* building (** mins)\n",
    "  * Retail Store App\n",
    "\n",
    "* reading (15 mins)\n",
    "  * show your work - austin kleon\n",
    "\n",
    "@kim_mkuu \n",
    "\n",
    "@sns_coder @mywon31 @ironrhino5 @aquaenix @0x80. @lakshya9624 @brohudev @must_be_g14classified @genie.6336 "
   ]
  },
  {
   "cell_type": "code",
   "execution_count": null,
   "metadata": {
    "vscode": {
     "languageId": "plaintext"
    }
   },
   "outputs": [],
   "source": [
    "ultraleraning - james clear\n",
    "so good they can't ignore you - cal newport\n",
    "supercommunicators - charles duhigg\n",
    "principles - ray diallo\n",
    "\n",
    "the science of story telling - will storr\n",
    "a story is a deal - will storr\n",
    "thank you for arguing - jay heinrichs"
   ]
  },
  {
   "cell_type": "markdown",
   "metadata": {},
   "source": []
  }
 ],
 "metadata": {
  "language_info": {
   "name": "python"
  }
 },
 "nbformat": 4,
 "nbformat_minor": 2
}
