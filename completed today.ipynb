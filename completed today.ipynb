{
 "cells": [
  {
   "cell_type": "markdown",
   "metadata": {},
   "source": [
    "19-apr-25:\n",
    "* leetcode (135 mins)\n",
    "  * tackled: 3 questions\n",
    "  * solved:\n",
    "    * [moving average from data stream](https://leetcode.com/problems/moving-average-from-data-stream/description/)\n",
    "\n",
    "* behavioral (59 mins)\n",
    "  * building a GPT that knows my experiences and can refine them for behavioral interviews\n",
    "\n",
    "* building\n",
    "  * 106 mins (MERN tutorial - Retail Store App)\n",
    "\n",
    "* read (15 mins)\n",
    "    thank you for arguing - jay heinrichs\n",
    "\n",
    "@sns_coder \n",
    "\n",
    "@mywon31 @ironrhino5 @aquaenix @0x80.  @lakshya9624 @brohudev @must_be_g14classified @genie.6336 \n",
    "\n",
    "\n",
    "**-apr-25:\n",
    "* leetcode (** mins)\n",
    "  * tackled: ** questions\n",
    "  * solved:\n",
    "    * []()\n",
    "\n",
    "* behavioral (** mins)\n",
    "  * \n",
    "\n",
    "* building\n",
    "  * ** mins (MERN tutorial - Retail Store App)\n",
    "\n",
    "* read (15 mins)\n",
    "    thank you for arguing - jay heinrichs\n",
    "\n",
    "@sns_coder \n",
    "\n",
    "@mywon31 @ironrhino5 @aquaenix @0x80.  @lakshya9624 @brohudev @must_be_g14classified @genie.6336 "
   ]
  },
  {
   "cell_type": "code",
   "execution_count": null,
   "metadata": {
    "vscode": {
     "languageId": "plaintext"
    }
   },
   "outputs": [],
   "source": [
    "ultraleraning - james clear\n",
    "so good they can't ignore you - cal newport\n",
    "supercommunicators - charles duhigg\n",
    "principles - ray diallo\n",
    "\n",
    "the science of story telling - will storr\n",
    "a story is a deal - will storr\n",
    "thank you for arguing - jay heinrichs"
   ]
  },
  {
   "cell_type": "markdown",
   "metadata": {},
   "source": []
  }
 ],
 "metadata": {
  "language_info": {
   "name": "python"
  }
 },
 "nbformat": 4,
 "nbformat_minor": 2
}
