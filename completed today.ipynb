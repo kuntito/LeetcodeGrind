{
 "cells": [
  {
   "cell_type": "markdown",
   "metadata": {},
   "source": [
    "12-may-25:\n",
    "* leetcode (2x18 mins)\n",
    "  * tackled:\n",
    "    * reviewed question from Amazon phone screen\n",
    "    * [zigzag iterator](https://leetcode.com/problems/zigzag-iterator/description/)\n",
    "\n",
    "* behavioral (3x18 mins)\n",
    "  * time i received harsh feedback\n",
    "  * time i solved a challenging problem\n",
    "\n",
    "* reading (2x10 mins)\n",
    "  * [crush your interviews: power of storytelling](https://www.scarletink.com/p/crush-your-interviews-power-of-storytelling)\n",
    "  * [questions to ask at the end of an interview](https://www.scarletink.com/p/questions-to-ask-at-the-end-of-an-interview)\n",
    "\n",
    "did the phone screen today, Low Level Design question about a class that stores IPaddresses, i didn't complete the code but i made sure to explain my process.\n",
    "\n",
    "and about 6 hours later, i got a mail that i've progressed to the next round.\n",
    "\n",
    "@kim_mkuu \n",
    "\n",
    "@sns_coder @mywon31 @ironrhino5 @aquaenix @0x80. @lakshya9624 @brohudev @must_be_g14classified @genie.6336 \n",
    "\n",
    "\n",
    "**-may-25:\n",
    "* leetcode (*x** mins)\n",
    "  * tackled:\n",
    "    * []()\n",
    "\n",
    "* behavioral (*x** mins)\n",
    "  * \n",
    "\n",
    "* reading (*x** mins)\n",
    "  * \n",
    "\n",
    "\n",
    "**-may-25:\n",
    "* leetcode (** mins)\n",
    "  * solved:\n",
    "    * []()\n",
    "\n",
    "* behavioral (** mins)\n",
    "  * \n",
    "\n",
    "* building (** mins)\n",
    "  * Retail Store App\n",
    "\n",
    "* reading (15 mins)\n",
    "  * show your work - austin kleon\n",
    "\n",
    "@kim_mkuu \n",
    "\n",
    "@sns_coder @mywon31 @ironrhino5 @aquaenix @0x80. @lakshya9624 @brohudev @must_be_g14classified @genie.6336 "
   ]
  },
  {
   "cell_type": "code",
   "execution_count": null,
   "metadata": {
    "vscode": {
     "languageId": "plaintext"
    }
   },
   "outputs": [],
   "source": [
    "ultraleraning - james clear\n",
    "so good they can't ignore you - cal newport\n",
    "supercommunicators - charles duhigg\n",
    "principles - ray diallo\n",
    "\n",
    "the science of story telling - will storr\n",
    "a story is a deal - will storr\n",
    "thank you for arguing - jay heinrichs"
   ]
  },
  {
   "cell_type": "markdown",
   "metadata": {},
   "source": []
  }
 ],
 "metadata": {
  "language_info": {
   "name": "python"
  }
 },
 "nbformat": 4,
 "nbformat_minor": 2
}
