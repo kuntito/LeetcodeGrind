{
 "cells": [
  {
   "cell_type": "markdown",
   "metadata": {},
   "source": [
    "13-may-25:\n",
    "* behavioral (7x15 mins)\n",
    "  explored the following leadership principles and drafted relevant experiences.\n",
    "  * customer obsession\n",
    "  * bias for action\n",
    "  * dive deep\n",
    "\n",
    "* reading (6x8 mins)\n",
    "  * [answering interview questions star method](https://www.scarletink.com/p/answering-interview-questions-star-method)\n",
    "  * [how to pass Amazon behavioral leadership principles interview](https://www.scarletink.com/p/how-to-pass-amazon-behavioral-leadership-principles-interview)\n",
    "\n",
    "* leetcode (3x18 mins)\n",
    "  * tackled:\n",
    "    * [nested list weight sum](https://leetcode.com/problems/nested-list-weight-sum/description/)\n",
    "    * [nested list weight sum ii](https://leetcode.com/problems/nested-list-weight-sum-ii/description/)\n",
    "    * [analyze user website visit pattern](https://leetcode.com/problems/analyze-user-website-visit-pattern/description/)\n",
    "\n",
    "\n",
    "@kim_mkuu \n",
    "\n",
    "@sns_coder @mywon31 @ironrhino5 @aquaenix @0x80. @lakshya9624 @brohudev @must_be_g14classified @genie.6336 @regretmin \n",
    "\n",
    "\n",
    "**-may-25:\n",
    "* leetcode (*x** mins)\n",
    "  * tackled:\n",
    "    * []()\n",
    "\n",
    "* behavioral (*x** mins)\n",
    "  * \n",
    "\n",
    "* reading (*x** mins)\n",
    "  * \n",
    "\n",
    "\n",
    "**-may-25:\n",
    "* leetcode (** mins)\n",
    "  * solved:\n",
    "    * []()\n",
    "\n",
    "* behavioral (** mins)\n",
    "  * \n",
    "\n",
    "* building (** mins)\n",
    "  * Retail Store App\n",
    "\n",
    "* reading (15 mins)\n",
    "  * show your work - austin kleon\n",
    "\n",
    "@kim_mkuu \n",
    "\n",
    "@sns_coder @mywon31 @ironrhino5 @aquaenix @0x80. @lakshya9624 @brohudev @must_be_g14classified @genie.6336 "
   ]
  },
  {
   "cell_type": "code",
   "execution_count": null,
   "metadata": {
    "vscode": {
     "languageId": "plaintext"
    }
   },
   "outputs": [],
   "source": [
    "ultraleraning - james clear\n",
    "so good they can't ignore you - cal newport\n",
    "supercommunicators - charles duhigg\n",
    "principles - ray diallo\n",
    "\n",
    "the science of story telling - will storr\n",
    "a story is a deal - will storr\n",
    "thank you for arguing - jay heinrichs"
   ]
  },
  {
   "cell_type": "markdown",
   "metadata": {},
   "source": []
  }
 ],
 "metadata": {
  "language_info": {
   "name": "python"
  }
 },
 "nbformat": 4,
 "nbformat_minor": 2
}
