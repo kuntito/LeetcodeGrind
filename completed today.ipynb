{
 "cells": [
  {
   "cell_type": "markdown",
   "metadata": {},
   "source": [
    "today:\n",
    "* leetcode\n",
    "  * [count of matches in tournament](https://leetcode.com/problems/count-of-matches-in-tournament/description/)\n",
    "  \n",
    "* project\n",
    "  *  30 mins (TicTacToe)\n",
    "  *  10 mins (React course)\n",
    "  *  10 mins (Node course)\n",
    "\n",
    "@kamerbling @nlstom \n",
    "\n",
    "* []()\n"
   ]
  }
 ],
 "metadata": {
  "language_info": {
   "name": "python"
  }
 },
 "nbformat": 4,
 "nbformat_minor": 2
}
