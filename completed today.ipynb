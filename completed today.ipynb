{
 "cells": [
  {
   "cell_type": "markdown",
   "metadata": {},
   "source": [
    "16-jun-25:\n",
    "* leetcode (2x15 mins)\n",
    "  * tackled:\n",
    "    * [palindrome partitioning ii](https://leetcode.com/problems/palindrome-partitioning-ii/description/)\n",
    "\n",
    "* building (60 mins)\n",
    "  * Retail Store App\n",
    "\n",
    "@xanthian buddy ping.\n",
    "@ikeaplant buddy ping.\n",
    "\n",
    "@ironrhino5 \n",
    "\n",
    "\n",
    "\n",
    "**-jun-25:\n",
    "* leetcode (** mins)\n",
    "  * tackled:\n",
    "    * []()\n",
    "\n",
    "* building (** mins)\n",
    "  * Retail Store App\n",
    "\n",
    "@xanthian buddy ping.\n",
    "@ikeaplant buddy ping.\n",
    "\n",
    "@sns_coder @mywon31 @ironrhino5 @aquaenix @0x80. @lakshya9624 @brohudev @must_be_g14classified @genie.6336 "
   ]
  },
  {
   "cell_type": "code",
   "execution_count": null,
   "metadata": {
    "vscode": {
     "languageId": "plaintext"
    }
   },
   "outputs": [],
   "source": [
    "ultraleraning - james clear\n",
    "so good they can't ignore you - cal newport\n",
    "supercommunicators - charles duhigg\n",
    "principles - ray diallo\n",
    "\n",
    "the science of story telling - will storr\n",
    "a story is a deal - will storr\n",
    "thank you for arguing - jay heinrichs"
   ]
  },
  {
   "cell_type": "markdown",
   "metadata": {},
   "source": []
  }
 ],
 "metadata": {
  "language_info": {
   "name": "python"
  }
 },
 "nbformat": 4,
 "nbformat_minor": 2
}
