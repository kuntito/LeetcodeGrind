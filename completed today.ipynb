{
 "cells": [
  {
   "cell_type": "markdown",
   "metadata": {},
   "source": [
    "30-may-25:\n",
    "* leetcode (3x15 mins)\n",
    "  * solved:\n",
    "    * [implement triee ii prefix tree](https://leetcode.com/problems/implement-trie-ii-prefix-tree/description/)\n",
    "    * [put marbles in bags](https://leetcode.com/problems/put-marbles-in-bags/)\n",
    "\n",
    "* building (2x50 mins)\n",
    "\n",
    "@kim_mkuu \n",
    "\n",
    "@sns_coder @mywon31 @ironrhino5 @aquaenix @0x80. @lakshya9624 @brohudev @must_be_g14classified @genie.6336 \n",
    "\n",
    "\n",
    "\n",
    "**-may-25:\n",
    "* leetcode (** mins)\n",
    "  * solved:\n",
    "    * []()\n",
    "\n",
    "* behaviorals (** mins)\n",
    "  * \n",
    "\n",
    "* building (** mins)\n",
    "  * Retail Store App\n",
    "\n",
    "* reading (15 mins)\n",
    "  * show your work - austin kleon\n",
    "\n",
    "@kim_mkuu \n",
    "\n",
    "@sns_coder @mywon31 @ironrhino5 @aquaenix @0x80. @lakshya9624 @brohudev @must_be_g14classified @genie.6336 "
   ]
  },
  {
   "cell_type": "code",
   "execution_count": null,
   "metadata": {
    "vscode": {
     "languageId": "plaintext"
    }
   },
   "outputs": [],
   "source": [
    "ultraleraning - james clear\n",
    "so good they can't ignore you - cal newport\n",
    "supercommunicators - charles duhigg\n",
    "principles - ray diallo\n",
    "\n",
    "the science of story telling - will storr\n",
    "a story is a deal - will storr\n",
    "thank you for arguing - jay heinrichs"
   ]
  },
  {
   "cell_type": "markdown",
   "metadata": {},
   "source": []
  }
 ],
 "metadata": {
  "language_info": {
   "name": "python"
  }
 },
 "nbformat": 4,
 "nbformat_minor": 2
}
