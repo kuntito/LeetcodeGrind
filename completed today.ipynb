{
 "cells": [
  {
   "cell_type": "markdown",
   "metadata": {},
   "source": [
    "21-may-25:\n",
    "* leetcode (1x18 mins)\n",
    "  * tackled:\n",
    "    * [analyze user website visit pattern](https://leetcode.com/problems/analyze-user-website-visit-pattern/description/)\n",
    "\n",
    "* behaviorals (1x30 mins)\n",
    "  * took a video interview today with a company i applied to ages ago, i thought i'd been ghosted. it was a behavioral round and ended up doubling as a mock interview for Amazon. interesting how the Amazon LP stories i've written work well for general behaviorals too.\n",
    "\n",
    "* misc (1x10 mins)\n",
    "  * [hit ground running: ramp up new job 3 weeks](https://www.scarletink.com/p/hit-ground-running-ramp-up-new-job-3-weeks)\n",
    "\n",
    "@kim_mkuu buddy ping.\n",
    "\n",
    "@sns_coder @mywon31 @ironrhino5 @aquaenix @0x80. @lakshya9624 @brohudev @must_be_g14classified @genie.6336 @regretmin \n",
    "\n",
    "\n",
    "**-may-25:\n",
    "* leetcode (*x** mins)\n",
    "  * tackled:\n",
    "    * []()\n",
    "\n",
    "* behaviorals (*x** mins)\n",
    "  * \n",
    "\n",
    "* misc (*x** mins)\n",
    "  * []()\n",
    "\n",
    "\n",
    "**-may-25:\n",
    "* leetcode (** mins)\n",
    "  * solved:\n",
    "    * []()\n",
    "\n",
    "* behaviorals (** mins)\n",
    "  * \n",
    "\n",
    "* building (** mins)\n",
    "  * Retail Store App\n",
    "\n",
    "* reading (15 mins)\n",
    "  * show your work - austin kleon\n",
    "\n",
    "@kim_mkuu \n",
    "\n",
    "@sns_coder @mywon31 @ironrhino5 @aquaenix @0x80. @lakshya9624 @brohudev @must_be_g14classified @genie.6336 "
   ]
  },
  {
   "cell_type": "code",
   "execution_count": null,
   "metadata": {
    "vscode": {
     "languageId": "plaintext"
    }
   },
   "outputs": [],
   "source": [
    "ultraleraning - james clear\n",
    "so good they can't ignore you - cal newport\n",
    "supercommunicators - charles duhigg\n",
    "principles - ray diallo\n",
    "\n",
    "the science of story telling - will storr\n",
    "a story is a deal - will storr\n",
    "thank you for arguing - jay heinrichs"
   ]
  },
  {
   "cell_type": "markdown",
   "metadata": {},
   "source": []
  }
 ],
 "metadata": {
  "language_info": {
   "name": "python"
  }
 },
 "nbformat": 4,
 "nbformat_minor": 2
}
