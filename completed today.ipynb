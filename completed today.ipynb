{
 "cells": [
  {
   "cell_type": "markdown",
   "metadata": {},
   "source": [
    "05-may-25:\n",
    "* leetcode (6x15 mins)\n",
    "  * tackled:\n",
    "    * [print immutable linked list in reverse](https://leetcode.com/problems/print-immutable-linked-list-in-reverse/description/)\n",
    "    * [zigzag conversion](https://leetcode.com/problems/zigzag-conversion/description/)\n",
    "    * [string to integer atoi](https://leetcode.com/problems/string-to-integer-atoi/description/)\n",
    "    * [dot product of two sparse vectors](https://leetcode.com/problems/dot-product-of-two-sparse-vectors/description/)\n",
    "    * [meeting rooms ii](https://leetcode.com/problems/meeting-rooms-ii/description/)\n",
    "    * [buildings with an ocean view](https://leetcode.com/problems/buildings-with-an-ocean-view/description/)\n",
    "\n",
    "* behavioral (2x15 mins)\n",
    "  * wrote about \"time i worked in a team\" and \"time i volunteered\"\n",
    "\n",
    "* reading (2x15 mins)\n",
    "  * read [dave anderson's blog](https://www.scarletink.com/about) about amazon interviews.\n",
    "\n",
    "@kim_mkuu \n",
    "\n",
    "@sns_coder @mywon31 @ironrhino5 @aquaenix @0x80. @lakshya9624 @brohudev @must_be_g14classified @genie.6336 \n",
    "\n",
    "\n",
    "**-may-25:\n",
    "* leetcode (** mins)\n",
    "  * solved:\n",
    "    * []()\n",
    "\n",
    "* behavioral (** mins)\n",
    "  * \n",
    "\n",
    "* building (** mins)\n",
    "  * Retail Store App\n",
    "\n",
    "* reading (15 mins)\n",
    "  * show your work - austin kleon\n",
    "\n",
    "@kim_mkuu \n",
    "\n",
    "@sns_coder @mywon31 @ironrhino5 @aquaenix @0x80. @lakshya9624 @brohudev @must_be_g14classified @genie.6336 "
   ]
  },
  {
   "cell_type": "code",
   "execution_count": null,
   "metadata": {
    "vscode": {
     "languageId": "plaintext"
    }
   },
   "outputs": [],
   "source": [
    "ultraleraning - james clear\n",
    "so good they can't ignore you - cal newport\n",
    "supercommunicators - charles duhigg\n",
    "principles - ray diallo\n",
    "\n",
    "the science of story telling - will storr\n",
    "a story is a deal - will storr\n",
    "thank you for arguing - jay heinrichs"
   ]
  },
  {
   "cell_type": "markdown",
   "metadata": {},
   "source": []
  }
 ],
 "metadata": {
  "language_info": {
   "name": "python"
  }
 },
 "nbformat": 4,
 "nbformat_minor": 2
}
