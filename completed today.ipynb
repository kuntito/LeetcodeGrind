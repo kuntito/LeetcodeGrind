{
 "cells": [
  {
   "cell_type": "markdown",
   "metadata": {},
   "source": [
    "today:\n",
    "* leetcode\n",
    "  * [watering plants](https://leetcode.com/problems/watering-plants/description/)\n",
    "  \n",
    "* project\n",
    "  *  mins (TicTacToe)\n",
    "  *  mins (React course)\n",
    "  *  mins (Node course)\n",
    "\n",
    "@kamerbling @waliahimanshu\n",
    "\n",
    "* []()\n"
   ]
  }
 ],
 "metadata": {
  "language_info": {
   "name": "python"
  }
 },
 "nbformat": 4,
 "nbformat_minor": 2
}
