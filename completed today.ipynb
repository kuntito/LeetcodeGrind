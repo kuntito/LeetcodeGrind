{
 "cells": [
  {
   "cell_type": "markdown",
   "metadata": {},
   "source": [
    "today:\n",
    "* leetcode (** mins)\n",
    "  * tackled: ** + 2 questions\n",
    "  * solved:\n",
    "    * [bag of tokens](https://leetcode.com/problems/bag-of-tokens/description/)\n",
    "    * [minimum length of string after deleting similar ends](https://leetcode.com/problems/minimum-length-of-string-after-deleting-similar-ends/description/)\n",
    "    * [number of sub-arrays of size k and average greater than or equal to threshold](https://leetcode.com/problems/number-of-sub-arrays-of-size-k-and-average-greater-than-or-equal-to-threshold/description/)\n",
    "    * [maximum number of vowels in a substring of given length](https://leetcode.com/problems/maximum-number-of-vowels-in-a-substring-of-given-length/description/)\n",
    "  \n",
    "* project\n",
    "  * 20 mins (Next course)\n",
    "  * 30 mins (Interview Prep)\n",
    "\n",
    "@kamerbling @nlstom @0x80. @mywon31\n",
    "\n",
    "\n",
    "today:\n",
    "* leetcode (** mins)\n",
    "  * tackled: ** questions\n",
    "  * solved:\n",
    "    * []()\n",
    "  \n",
    "* project\n",
    "  * 20 mins (** course)\n",
    "  * 30 mins (Interview Prep)\n",
    "\n",
    "@kamerbling @nlstom @0x80. @mywon31 "
   ]
  },
  {
   "cell_type": "code",
   "execution_count": null,
   "metadata": {
    "vscode": {
     "languageId": "plaintext"
    }
   },
   "outputs": [],
   "source": []
  },
  {
   "cell_type": "code",
   "execution_count": null,
   "metadata": {
    "vscode": {
     "languageId": "plaintext"
    }
   },
   "outputs": [],
   "source": []
  }
 ],
 "metadata": {
  "language_info": {
   "name": "python"
  }
 },
 "nbformat": 4,
 "nbformat_minor": 2
}
