{
 "cells": [
  {
   "cell_type": "markdown",
   "metadata": {},
   "source": [
    "today:\n",
    "* leetcode\n",
    "  * [range sum query 2d immutable](https://leetcode.com/problems/range-sum-query-2d-immutable/description/)\n",
    "  \n",
    "* project\n",
    "  * 15 mins (React course)\n",
    "  * 15 mins (Node course)\n",
    "\n",
    "@kamerbling @nlstom \n",
    "\n",
    "* []()"
   ]
  }
 ],
 "metadata": {
  "language_info": {
   "name": "python"
  }
 },
 "nbformat": 4,
 "nbformat_minor": 2
}
