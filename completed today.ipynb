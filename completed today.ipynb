{
 "cells": [
  {
   "cell_type": "markdown",
   "metadata": {},
   "source": [
    "yesterday (16-mar-25):\n",
    "\n",
    "* leetcode (** mins)\n",
    "  * tackled: ** questions\n",
    "  * solved:\n",
    "    * [all nodes distance k in binary tree](https://leetcode.com/problems/all-nodes-distance-k-in-binary-tree/description/)\n",
    "    * [append characters to string to make subsequence](https://leetcode.com/problems/append-characters-to-string-to-make-subsequence/description/)\n",
    "\n",
    "* behavioral (** mins)\n",
    "  * \n",
    "\n",
    "@sns_coder @mywon31 @ironrhino5 @aquaenix @0x80.  @lakshya9624 @brohudev @must_be_g14classified @genie.6336 \n",
    "\n",
    "\n",
    "today:\n",
    "* leetcode (** mins)\n",
    "  * tackled: ** questions\n",
    "  * solved:\n",
    "    * []()\n",
    "\n",
    "* behavioral (** mins)\n",
    "  * \n",
    "\n",
    "* building\n",
    "  * ** -6 mins (** course)\n",
    "  * ** mins (Interview Prep)\n",
    "  \n",
    "\n",
    "* read (15 mins)\n",
    "    ** - **\n",
    "\n",
    "@sns_coder \n",
    "\n",
    "@mywon31 @ironrhino5 @aquaenix @0x80.  @lakshya9624 @brohudev @must_be_g14classified @genie.6336"
   ]
  },
  {
   "cell_type": "code",
   "execution_count": null,
   "metadata": {
    "vscode": {
     "languageId": "plaintext"
    }
   },
   "outputs": [],
   "source": [
    "ultraleraning - james clear\n",
    "so good they can't ignore you - cal newport\n",
    "supercommunicators - charles duhigg\n",
    "the science of story telling - will storr"
   ]
  },
  {
   "cell_type": "markdown",
   "metadata": {},
   "source": []
  }
 ],
 "metadata": {
  "language_info": {
   "name": "python"
  }
 },
 "nbformat": 4,
 "nbformat_minor": 2
}
