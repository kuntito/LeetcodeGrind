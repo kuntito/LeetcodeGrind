{
 "cells": [
  {
   "cell_type": "markdown",
   "metadata": {},
   "source": [
    "today:\n",
    "* leetcode (300 mins)\n",
    "  * tackled: 9 questions\n",
    "  * solved:\n",
    "    * [single threaded CPU](https://leetcode.com/problems/single-threaded-cpu/description/)\n",
    "    * [lowest common ancestor of a binary tree iv](https://leetcode.com/problems/lowest-common-ancestor-of-a-binary-tree-iv/description/?envType=study-plan-v2&envId=amazon-spring-23-high-frequency)\n",
    "    * [minimum swaps to group all 1's together](https://leetcode.com/problems/minimum-swaps-to-group-all-1s-together/description/?envType=study-plan-v2&envId=amazon-spring-23-high-frequency)\n",
    "\n",
    "* behavioral (>73 mins)\n",
    "  * grokked LPs, thought about relevant stories, trying not to cram so it sounds natural\n",
    "\n",
    "@sns_coder @mywon31 @ironrhino5 @aquaenix @0x80.  @lakshya9624 @brohudev @must_be_g14classified\n",
    "\n",
    "\n",
    "today:\n",
    "* leetcode (** mins)\n",
    "  * tackled: ** questions\n",
    "  * solved:\n",
    "    * []()\n",
    "\n",
    "* behavioral (** mins)\n",
    "  * \n",
    "\n",
    "* building\n",
    "  * ** -6 mins (** course)\n",
    "  * ** mins (Interview Prep)\n",
    "  \n",
    "\n",
    "* read (15 mins)\n",
    "    ** - **\n",
    "\n",
    "@sns_coder @mywon31 @ironrhino5 @aquaenix @0x80.  @lakshya9624 @brohudev @must_be_g14classified"
   ]
  },
  {
   "cell_type": "code",
   "execution_count": null,
   "metadata": {
    "vscode": {
     "languageId": "plaintext"
    }
   },
   "outputs": [],
   "source": [
    "ultraleraning - james clear\n",
    "so good they can't ignore you - cal newport\n",
    "supercommunicators - charles duhigg\n",
    "the science of story telling - will storr"
   ]
  },
  {
   "cell_type": "markdown",
   "metadata": {},
   "source": []
  }
 ],
 "metadata": {
  "language_info": {
   "name": "python"
  }
 },
 "nbformat": 4,
 "nbformat_minor": 2
}
