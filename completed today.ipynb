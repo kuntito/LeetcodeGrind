{
 "cells": [
  {
   "cell_type": "markdown",
   "metadata": {},
   "source": [
    "14-jul-25\n",
    "* building (45 mins)\n",
    "  * Retail Store App\n",
    "\n",
    "* leetcode (15 mins)\n",
    "  * tackled:\n",
    "    * [jump game vii](https://leetcode.com/problems/jump-game-vii/)\n",
    "\n",
    "@aquaenix @ironrhino5 @rajan3389 \n",
    "\n",
    "\n",
    "\n",
    "**-jul-25\n",
    "* building (** mins)\n",
    "  * Retail Store App\n",
    "\n",
    "* leetcode (** mins)\n",
    "  * tackled:\n",
    "    * []()\n",
    "\n",
    "@ironrhino5\n",
    "\n",
    "@sns_coder @mywon31 @ironrhino5 @0x80. @lakshya9624 @brohudev @must_be_g14classified @genie.6336 "
   ]
  },
  {
   "cell_type": "code",
   "execution_count": null,
   "metadata": {
    "vscode": {
     "languageId": "plaintext"
    }
   },
   "outputs": [],
   "source": [
    "ultraleraning - james clear\n",
    "so good they can't ignore you - cal newport\n",
    "supercommunicators - charles duhigg\n",
    "principles - ray diallo\n",
    "\n",
    "the science of story telling - will storr\n",
    "a story is a deal - will storr\n",
    "thank you for arguing - jay heinrichs"
   ]
  },
  {
   "cell_type": "markdown",
   "metadata": {},
   "source": []
  }
 ],
 "metadata": {
  "language_info": {
   "name": "python"
  }
 },
 "nbformat": 4,
 "nbformat_minor": 2
}
