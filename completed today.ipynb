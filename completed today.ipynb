{
 "cells": [
  {
   "cell_type": "markdown",
   "metadata": {},
   "source": [
    "25-may-25:\n",
    "* leetcode (1x18 mins)\n",
    "  * tackled:\n",
    "    * [design log storage system](https://leetcode.com/problems/design-log-storage-system/)\n",
    "\n",
    "* behaviorals (1x18 mins)\n",
    "  * time i disagreed with a team decision\n",
    "\n",
    "* misc (1x5 mins)\n",
    "  * [how to pass Amazon behavioral leadership principles interview](https://www.scarletink.com/p/how-to-pass-amazon-behavioral-leadership-principles-interview)\n",
    "  * [writing and speaking clearly and concisely](https://www.scarletink.com/p/writing-and-speaking-clearly-and-concisely)\n",
    "\n",
    "@kim_mkuu buddy ping.\n",
    "\n",
    "@sns_coder @mywon31 @ironrhino5 @aquaenix @0x80. @lakshya9624 @brohudev @must_be_g14classified @genie.6336 @regretmin \n",
    "\n",
    "\n",
    "**-may-25:\n",
    "* leetcode (*x** mins)\n",
    "  * tackled:\n",
    "    * []()\n",
    "\n",
    "* behaviorals (*x** mins)\n",
    "  * \n",
    "\n",
    "* misc (*x** mins)\n",
    "  * []()\n",
    "\n",
    "\n",
    "**-may-25:\n",
    "* leetcode (** mins)\n",
    "  * solved:\n",
    "    * []()\n",
    "\n",
    "* behaviorals (** mins)\n",
    "  * \n",
    "\n",
    "* building (** mins)\n",
    "  * Retail Store App\n",
    "\n",
    "* reading (15 mins)\n",
    "  * show your work - austin kleon\n",
    "\n",
    "@kim_mkuu \n",
    "\n",
    "@sns_coder @mywon31 @ironrhino5 @aquaenix @0x80. @lakshya9624 @brohudev @must_be_g14classified @genie.6336 "
   ]
  },
  {
   "cell_type": "code",
   "execution_count": null,
   "metadata": {
    "vscode": {
     "languageId": "plaintext"
    }
   },
   "outputs": [],
   "source": [
    "ultraleraning - james clear\n",
    "so good they can't ignore you - cal newport\n",
    "supercommunicators - charles duhigg\n",
    "principles - ray diallo\n",
    "\n",
    "the science of story telling - will storr\n",
    "a story is a deal - will storr\n",
    "thank you for arguing - jay heinrichs"
   ]
  },
  {
   "cell_type": "markdown",
   "metadata": {},
   "source": []
  }
 ],
 "metadata": {
  "language_info": {
   "name": "python"
  }
 },
 "nbformat": 4,
 "nbformat_minor": 2
}
