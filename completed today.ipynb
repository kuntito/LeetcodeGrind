{
 "cells": [
  {
   "cell_type": "markdown",
   "metadata": {},
   "source": [
    "09-may-25:\n",
    "* leetcode (5x20 mins)\n",
    "  * tackled:\n",
    "    * [number of distinct islands](https://leetcode.com/problems/number-of-distinct-islands/description/)\n",
    "    * [design a leaderboard](https://leetcode.com/problems/design-a-leaderboard/description/)\n",
    "    * [minimum knight moves](https://leetcode.com/problems/minimum-knight-moves/description/)\n",
    "    * [word pattern](https://leetcode.com/problems/word-pattern-ii/description/)\n",
    "    * [meeting scheduler](https://leetcode.com/problems/meeting-scheduler/description/)\n",
    "\n",
    "* behavioral (2x20 mins)\n",
    "  * journaled my experiences, previous conflicts.\n",
    "\n",
    "* reading (3x10 mins)\n",
    "  * [reddit post](https://www.reddit.com/r/leetcode/comments/1kf04eq/ill_help_to_prepare_you_for_amazon/) about amazon interviews\n",
    "  * read David Anderson's post: [Technical Skills Are Overrated. Focus on Your Attitude](https://www.scarletink.com/p/technical-skills-are-overrated-focus-on-your-attitude).\n",
    "\n",
    "@kim_mkuu \n",
    "\n",
    "@sns_coder @mywon31 @ironrhino5 @aquaenix @0x80. @lakshya9624 @brohudev @must_be_g14classified @genie.6336 \n",
    "\n",
    "\n",
    "\n",
    "\n",
    "\n",
    "**-may-25:\n",
    "* leetcode (*x** mins)\n",
    "  * tackled:\n",
    "    * []()\n",
    "\n",
    "* behavioral (*x** mins)\n",
    "  * \n",
    "\n",
    "* reading (*x** mins)\n",
    "  * \n",
    "\n",
    "\n",
    "**-may-25:\n",
    "* leetcode (** mins)\n",
    "  * solved:\n",
    "    * []()\n",
    "\n",
    "* behavioral (** mins)\n",
    "  * \n",
    "\n",
    "* building (** mins)\n",
    "  * Retail Store App\n",
    "\n",
    "* reading (15 mins)\n",
    "  * show your work - austin kleon\n",
    "\n",
    "@kim_mkuu \n",
    "\n",
    "@sns_coder @mywon31 @ironrhino5 @aquaenix @0x80. @lakshya9624 @brohudev @must_be_g14classified @genie.6336 "
   ]
  },
  {
   "cell_type": "code",
   "execution_count": null,
   "metadata": {
    "vscode": {
     "languageId": "plaintext"
    }
   },
   "outputs": [],
   "source": [
    "ultraleraning - james clear\n",
    "so good they can't ignore you - cal newport\n",
    "supercommunicators - charles duhigg\n",
    "principles - ray diallo\n",
    "\n",
    "the science of story telling - will storr\n",
    "a story is a deal - will storr\n",
    "thank you for arguing - jay heinrichs"
   ]
  },
  {
   "cell_type": "markdown",
   "metadata": {},
   "source": []
  }
 ],
 "metadata": {
  "language_info": {
   "name": "python"
  }
 },
 "nbformat": 4,
 "nbformat_minor": 2
}
