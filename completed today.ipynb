{
 "cells": [
  {
   "cell_type": "markdown",
   "metadata": {},
   "source": [
    "15-may-25:\n",
    "* leetcode (3x18 mins)\n",
    "  * tackled:\n",
    "    * [boundary of binary tree](https://leetcode.com/problems/boundary-of-binary-tree/description)\n",
    "    * [reorganize string](https://leetcode.com/problems/reorganize-string/)\n",
    "    * [course schedule](https://leetcode.com/problems/course-schedule/description/)\n",
    "\n",
    "* behavioral (6x18 mins)\n",
    "  * drafted stories for \"invent and simplify\", \"deliver results\" and \"have backbone, disagree and commit\".\n",
    "\n",
    "* reading (6x5 mins)\n",
    "  * [writing and speaking clearly and concisely](https://www.scarletink.com/p/writing-and-speaking-clearly-and-concisely)\n",
    "  * [three tales from an Amazon bar raiser](https://www.scarletink.com/p/three-tales-from-an-amazon-bar-raiser)\n",
    "\n",
    "@kim_mkuu \n",
    "\n",
    "@sns_coder @mywon31 @ironrhino5 @aquaenix @0x80. @lakshya9624 @brohudev @must_be_g14classified @genie.6336 @regretmin \n",
    "\n",
    "\n",
    "**-may-25:\n",
    "* leetcode (*x** mins)\n",
    "  * tackled:\n",
    "    * []()\n",
    "\n",
    "* behavioral (*x** mins)\n",
    "  * \n",
    "\n",
    "* reading (*x** mins)\n",
    "  * \n",
    "\n",
    "\n",
    "**-may-25:\n",
    "* leetcode (** mins)\n",
    "  * solved:\n",
    "    * []()\n",
    "\n",
    "* behavioral (** mins)\n",
    "  * \n",
    "\n",
    "* building (** mins)\n",
    "  * Retail Store App\n",
    "\n",
    "* reading (15 mins)\n",
    "  * show your work - austin kleon\n",
    "\n",
    "@kim_mkuu \n",
    "\n",
    "@sns_coder @mywon31 @ironrhino5 @aquaenix @0x80. @lakshya9624 @brohudev @must_be_g14classified @genie.6336 "
   ]
  },
  {
   "cell_type": "code",
   "execution_count": null,
   "metadata": {
    "vscode": {
     "languageId": "plaintext"
    }
   },
   "outputs": [],
   "source": [
    "ultraleraning - james clear\n",
    "so good they can't ignore you - cal newport\n",
    "supercommunicators - charles duhigg\n",
    "principles - ray diallo\n",
    "\n",
    "the science of story telling - will storr\n",
    "a story is a deal - will storr\n",
    "thank you for arguing - jay heinrichs"
   ]
  },
  {
   "cell_type": "markdown",
   "metadata": {},
   "source": []
  }
 ],
 "metadata": {
  "language_info": {
   "name": "python"
  }
 },
 "nbformat": 4,
 "nbformat_minor": 2
}
