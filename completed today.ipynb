{
 "cells": [
  {
   "cell_type": "markdown",
   "metadata": {},
   "source": [
    "27-apr-25:\n",
    "* leetcode (45 mins)\n",
    "  * revisited:\n",
    "    * [binary tree level order traversal](https://leetcode.com/problems/binary-tree-level-order-traversal/description)\n",
    "    * [maximum depth of binary tree](https://leetcode.com/problems/maximum-depth-of-binary-tree/description/)\n",
    "    * [construct binary tree from preorder and inorder traversal](https://leetcode.com/problems/construct-binary-tree-from-preorder-and-inorder-traversal/description/)\n",
    "\n",
    "* behavioral (30 mins)\n",
    "  * creating LLM journal that can craft my experiences as STAR answers.\n",
    "\n",
    "* building (30 mins)\n",
    "  * Retail Store App\n",
    "\n",
    "@sns_coder \n",
    "\n",
    "@mywon31 @ironrhino5 @aquaenix @0x80.  @lakshya9624 @brohudev @must_be_g14classified @genie.6336 \n",
    "\n",
    "\n",
    "**-apr-25:\n",
    "* leetcode (** mins)\n",
    "  * revisited:\n",
    "    * []()\n",
    "\n",
    "* behavioral (** mins)\n",
    "  * \n",
    "\n",
    "* building (** mins)\n",
    "  * ** mins (Retail Store App)\n",
    "\n",
    "\n",
    "@sns_coder \n",
    "\n",
    "@mywon31 @ironrhino5 @aquaenix @0x80.  @lakshya9624 @brohudev @must_be_g14classified @genie.6336 "
   ]
  },
  {
   "cell_type": "code",
   "execution_count": null,
   "metadata": {
    "vscode": {
     "languageId": "plaintext"
    }
   },
   "outputs": [],
   "source": [
    "ultraleraning - james clear\n",
    "so good they can't ignore you - cal newport\n",
    "supercommunicators - charles duhigg\n",
    "principles - ray diallo\n",
    "\n",
    "the science of story telling - will storr\n",
    "a story is a deal - will storr\n",
    "thank you for arguing - jay heinrichs"
   ]
  },
  {
   "cell_type": "markdown",
   "metadata": {},
   "source": []
  }
 ],
 "metadata": {
  "language_info": {
   "name": "python"
  }
 },
 "nbformat": 4,
 "nbformat_minor": 2
}
