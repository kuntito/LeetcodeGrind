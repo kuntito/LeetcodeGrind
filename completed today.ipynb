{
 "cells": [
  {
   "cell_type": "markdown",
   "metadata": {},
   "source": [
    "06-jul-25\n",
    "* building (2x75 mins)\n",
    "  * Retail Store App\n",
    "\n",
    "* leetcode (20 mins)\n",
    "  * tackled:\n",
    "    * [minimum remove to make valid parentheses](https://leetcode.com/problems/minimum-remove-to-make-valid-parentheses/description/)\n",
    "\n",
    "\n",
    "@aquaenix @ironrhino5 @rajan3389 \n",
    "\n",
    "\n",
    "\n",
    "**-jul-25\n",
    "* building (** mins)\n",
    "  * Retail Store App\n",
    "\n",
    "* leetcode (** mins)\n",
    "  * tackled:\n",
    "    * []()\n",
    "\n",
    "@xanthian buddy ping.\n",
    "@ikeaplant buddy ping.\n",
    "\n",
    "@ironrhino5\n",
    "\n",
    "@sns_coder @mywon31 @ironrhino5 @0x80. @lakshya9624 @brohudev @must_be_g14classified @genie.6336 "
   ]
  },
  {
   "cell_type": "code",
   "execution_count": null,
   "metadata": {
    "vscode": {
     "languageId": "plaintext"
    }
   },
   "outputs": [],
   "source": [
    "ultraleraning - james clear\n",
    "so good they can't ignore you - cal newport\n",
    "supercommunicators - charles duhigg\n",
    "principles - ray diallo\n",
    "\n",
    "the science of story telling - will storr\n",
    "a story is a deal - will storr\n",
    "thank you for arguing - jay heinrichs"
   ]
  },
  {
   "cell_type": "markdown",
   "metadata": {},
   "source": []
  }
 ],
 "metadata": {
  "language_info": {
   "name": "python"
  }
 },
 "nbformat": 4,
 "nbformat_minor": 2
}
