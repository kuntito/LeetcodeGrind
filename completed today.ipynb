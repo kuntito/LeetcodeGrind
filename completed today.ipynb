{
 "cells": [
  {
   "cell_type": "markdown",
   "metadata": {},
   "source": [
    "yesterday (19-mar-25):\n",
    "* leetcode (60 mins)\n",
    "  * tackled: 2 questions\n",
    "  * solved:\n",
    "    * [maximum frequency stack](https://leetcode.com/problems/maximum-frequency-stack/description/)\n",
    "\n",
    "* building\n",
    "  * 39 mins (Interview Prep)\n",
    "  \n",
    "* read (15 mins)\n",
    "    the science of story telling - will storr\n",
    "\n",
    "did the amazon interview today.\n",
    "3 rounds:\n",
    "* LPs / coding\n",
    "* LPs\n",
    "* coding\n",
    "\n",
    "oddly enough, the coding questions were easier than expected, an OOP design question and validating a game board based on certain rules.\n",
    "\n",
    "the interviewers were more concerned about my thought process, \"why did you use this function?\", \"what's this loop doing?\", \"would your code work for this edge case?\"\n",
    "\n",
    "however, one of the behavioral questions threw me off \"a time when i received harsh feedback\". i didn't have a direct example but i said what i could regarding a uni assessment where my supervisor wasn't pleased. \n",
    "my delivery was somewhat disorganized and raised a few eye brows, but what's done is done.\n",
    "\n",
    "until i get the offer, the grind continues.\n",
    "\n",
    "\n",
    "@sns_coder \n",
    "\n",
    "@mywon31 @ironrhino5 @aquaenix @0x80. @lakshya9624 @brohudev @must_be_g14classified @genie.6336\n",
    "\n",
    "\n",
    "today:\n",
    "* leetcode (** mins)\n",
    "  * tackled: ** questions\n",
    "  * solved:\n",
    "    * []()\n",
    "\n",
    "* behavioral (** mins)\n",
    "  * \n",
    "\n",
    "* building\n",
    "  * ** -6 mins (** course)\n",
    "  * ** mins (Interview Prep)\n",
    "  \n",
    "\n",
    "* read (15 mins)\n",
    "    ** - **\n",
    "\n",
    "@sns_coder \n",
    "\n",
    "@mywon31 @ironrhino5 @aquaenix @0x80.  @lakshya9624 @brohudev @must_be_g14classified @genie.6336"
   ]
  },
  {
   "cell_type": "code",
   "execution_count": null,
   "metadata": {
    "vscode": {
     "languageId": "plaintext"
    }
   },
   "outputs": [],
   "source": [
    "ultraleraning - james clear\n",
    "so good they can't ignore you - cal newport\n",
    "supercommunicators - charles duhigg\n",
    "the science of story telling - will storr"
   ]
  },
  {
   "cell_type": "markdown",
   "metadata": {},
   "source": []
  }
 ],
 "metadata": {
  "language_info": {
   "name": "python"
  }
 },
 "nbformat": 4,
 "nbformat_minor": 2
}
