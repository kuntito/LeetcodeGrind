{
 "cells": [
  {
   "cell_type": "markdown",
   "metadata": {},
   "source": [
    "11-jun-25:\n",
    "* leetcode (20 mins)\n",
    "  * tackled:\n",
    "    * [maximal rectangle](https://leetcode.com/problems/maximal-rectangle/)\n",
    "\n",
    "* building (19 mins)\n",
    "  * Retail Store App\n",
    "\n",
    "@xanthian buddy ping.\n",
    "@ikeaplant buddy ping.\n",
    "\n",
    "@ironrhino5 \n",
    "\n",
    "\n",
    "\n",
    "**-jun-25:\n",
    "* leetcode (** mins)\n",
    "  * tackled:\n",
    "    * []()\n",
    "\n",
    "* building (** mins)\n",
    "  * Retail Store App\n",
    "\n",
    "* behaviorals (** mins)\n",
    "  * \n",
    "\n",
    "* reading (15 mins)\n",
    "  * show your work - austin kleon\n",
    "\n",
    "@xanthian buddy ping.\n",
    "@ikeaplant buddy ping.\n",
    "\n",
    "@sns_coder @mywon31 @ironrhino5 @aquaenix @0x80. @lakshya9624 @brohudev @must_be_g14classified @genie.6336 "
   ]
  },
  {
   "cell_type": "code",
   "execution_count": null,
   "metadata": {
    "vscode": {
     "languageId": "plaintext"
    }
   },
   "outputs": [],
   "source": [
    "ultraleraning - james clear\n",
    "so good they can't ignore you - cal newport\n",
    "supercommunicators - charles duhigg\n",
    "principles - ray diallo\n",
    "\n",
    "the science of story telling - will storr\n",
    "a story is a deal - will storr\n",
    "thank you for arguing - jay heinrichs"
   ]
  },
  {
   "cell_type": "markdown",
   "metadata": {},
   "source": []
  }
 ],
 "metadata": {
  "language_info": {
   "name": "python"
  }
 },
 "nbformat": 4,
 "nbformat_minor": 2
}
