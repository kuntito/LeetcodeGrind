{
 "cells": [
  {
   "cell_type": "markdown",
   "metadata": {},
   "source": [
    "today:\n",
    "* leetcode\n",
    "  * [add to array-form of integer](https://leetcode.com/problems/add-to-array-form-of-integer/description/)\n",
    "  \n",
    "* project\n",
    "  * 5 mins (Portfolio)\n",
    "  * 5 mins (React course)\n",
    "  * 5 mins (Node course)\n",
    "\n",
    "@kamerbling @nlstom \n",
    "\n",
    "* []()"
   ]
  }
 ],
 "metadata": {
  "language_info": {
   "name": "python"
  }
 },
 "nbformat": 4,
 "nbformat_minor": 2
}
