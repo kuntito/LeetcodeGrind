{
 "cells": [
  {
   "cell_type": "markdown",
   "metadata": {},
   "source": [
    "today:\n",
    "* leetcode (120 mins)\n",
    "  * tackled: 3 questions\n",
    "  * solved:\n",
    "    * [stone game iii](https://leetcode.com/problems/stone-game-iii/description/)\n",
    "\n",
    "* building\n",
    "  * 20 mins (Node course)\n",
    "  * 60 mins (Interview Prep App)\n",
    "  \n",
    "* read (15 mins)\n",
    "    ultraleraning - james clear\n",
    "\n",
    "got rejected by amazon today. half expected it, given my \"brilliant\" performance during the LP round. it sucks.. but it is what it is. i need to write better stories and be more prepared for next time.\n",
    "\n",
    "till then, the grind continues\n",
    "\n",
    "@sns_coder buddy ping!\n",
    "\n",
    "@mywon31 @ironrhino5 @aquaenix @0x80.  @lakshya9624 @brohudev @must_be_g14classified @genie.6336 \n",
    "\n",
    "\n",
    "\n",
    "\n",
    "\n",
    "today:\n",
    "* leetcode (** mins)\n",
    "  * tackled: ** questions\n",
    "  * solved:\n",
    "    * []()\n",
    "\n",
    "* behavioral (** mins)\n",
    "  * \n",
    "\n",
    "* building\n",
    "  * ** (** course)\n",
    "  * ** mins (Interview Prep App)\n",
    "  \n",
    "\n",
    "* read (15 mins)\n",
    "    ** - **\n",
    "\n",
    "@sns_coder \n",
    "\n",
    "@mywon31 @ironrhino5 @aquaenix @0x80.  @lakshya9624 @brohudev @must_be_g14classified @genie.6336 "
   ]
  },
  {
   "cell_type": "code",
   "execution_count": null,
   "metadata": {
    "vscode": {
     "languageId": "plaintext"
    }
   },
   "outputs": [],
   "source": [
    "ultraleraning - james clear\n",
    "so good they can't ignore you - cal newport\n",
    "supercommunicators - charles duhigg\n",
    "the science of story telling - will storr\n",
    "principles - ray diallo"
   ]
  },
  {
   "cell_type": "markdown",
   "metadata": {},
   "source": []
  }
 ],
 "metadata": {
  "language_info": {
   "name": "python"
  }
 },
 "nbformat": 4,
 "nbformat_minor": 2
}
